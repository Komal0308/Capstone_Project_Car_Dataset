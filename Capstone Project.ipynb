{
 "cells": [
  {
   "cell_type": "code",
   "execution_count": 58,
   "id": "974bfa4e",
   "metadata": {},
   "outputs": [],
   "source": [
    "import numpy as np\n",
    "import pandas as pd             # \n",
    "import matplotlib.pyplot as plt\n",
    "import seaborn as sns"
   ]
  },
  {
   "cell_type": "code",
   "execution_count": 59,
   "id": "eefc30f5",
   "metadata": {},
   "outputs": [],
   "source": [
    "df = pd.DataFrame(pd.read_excel(\"CAR DETAILS.xlsx\"))"
   ]
  },
  {
   "cell_type": "code",
   "execution_count": 60,
   "id": "368e7059",
   "metadata": {},
   "outputs": [
    {
     "data": {
      "text/html": [
       "<div>\n",
       "<style scoped>\n",
       "    .dataframe tbody tr th:only-of-type {\n",
       "        vertical-align: middle;\n",
       "    }\n",
       "\n",
       "    .dataframe tbody tr th {\n",
       "        vertical-align: top;\n",
       "    }\n",
       "\n",
       "    .dataframe thead th {\n",
       "        text-align: right;\n",
       "    }\n",
       "</style>\n",
       "<table border=\"1\" class=\"dataframe\">\n",
       "  <thead>\n",
       "    <tr style=\"text-align: right;\">\n",
       "      <th></th>\n",
       "      <th>car_name</th>\n",
       "      <th>year</th>\n",
       "      <th>selling_price</th>\n",
       "      <th>km_driven</th>\n",
       "      <th>fuel</th>\n",
       "      <th>seller_type</th>\n",
       "      <th>transmission</th>\n",
       "      <th>owner</th>\n",
       "    </tr>\n",
       "  </thead>\n",
       "  <tbody>\n",
       "    <tr>\n",
       "      <th>0</th>\n",
       "      <td>Maruti</td>\n",
       "      <td>2007</td>\n",
       "      <td>60000</td>\n",
       "      <td>70000</td>\n",
       "      <td>Petrol</td>\n",
       "      <td>Individual</td>\n",
       "      <td>Manual</td>\n",
       "      <td>First Owner</td>\n",
       "    </tr>\n",
       "    <tr>\n",
       "      <th>1</th>\n",
       "      <td>Maruti</td>\n",
       "      <td>2007</td>\n",
       "      <td>135000</td>\n",
       "      <td>50000</td>\n",
       "      <td>Petrol</td>\n",
       "      <td>Individual</td>\n",
       "      <td>Manual</td>\n",
       "      <td>First Owner</td>\n",
       "    </tr>\n",
       "    <tr>\n",
       "      <th>2</th>\n",
       "      <td>Hyundai</td>\n",
       "      <td>2012</td>\n",
       "      <td>600000</td>\n",
       "      <td>100000</td>\n",
       "      <td>Diesel</td>\n",
       "      <td>Individual</td>\n",
       "      <td>Manual</td>\n",
       "      <td>First Owner</td>\n",
       "    </tr>\n",
       "    <tr>\n",
       "      <th>3</th>\n",
       "      <td>Datsun</td>\n",
       "      <td>2017</td>\n",
       "      <td>250000</td>\n",
       "      <td>46000</td>\n",
       "      <td>Petrol</td>\n",
       "      <td>Individual</td>\n",
       "      <td>Manual</td>\n",
       "      <td>First Owner</td>\n",
       "    </tr>\n",
       "    <tr>\n",
       "      <th>4</th>\n",
       "      <td>Honda</td>\n",
       "      <td>2014</td>\n",
       "      <td>450000</td>\n",
       "      <td>141000</td>\n",
       "      <td>Diesel</td>\n",
       "      <td>Individual</td>\n",
       "      <td>Manual</td>\n",
       "      <td>Second Owner</td>\n",
       "    </tr>\n",
       "  </tbody>\n",
       "</table>\n",
       "</div>"
      ],
      "text/plain": [
       "  car_name  year  selling_price  km_driven    fuel seller_type transmission   \n",
       "0   Maruti  2007          60000      70000  Petrol  Individual       Manual  \\\n",
       "1   Maruti  2007         135000      50000  Petrol  Individual       Manual   \n",
       "2  Hyundai  2012         600000     100000  Diesel  Individual       Manual   \n",
       "3   Datsun  2017         250000      46000  Petrol  Individual       Manual   \n",
       "4    Honda  2014         450000     141000  Diesel  Individual       Manual   \n",
       "\n",
       "          owner  \n",
       "0   First Owner  \n",
       "1   First Owner  \n",
       "2   First Owner  \n",
       "3   First Owner  \n",
       "4  Second Owner  "
      ]
     },
     "execution_count": 60,
     "metadata": {},
     "output_type": "execute_result"
    }
   ],
   "source": [
    "# Display the first 5 rows of the dataset\n",
    "df.head()"
   ]
  },
  {
   "cell_type": "code",
   "execution_count": 61,
   "id": "ceaba801",
   "metadata": {},
   "outputs": [
    {
     "name": "stdout",
     "output_type": "stream",
     "text": [
      "<class 'pandas.core.frame.DataFrame'>\n",
      "RangeIndex: 3577 entries, 0 to 3576\n",
      "Data columns (total 8 columns):\n",
      " #   Column         Non-Null Count  Dtype \n",
      "---  ------         --------------  ----- \n",
      " 0   car_name       3577 non-null   object\n",
      " 1   year           3577 non-null   int64 \n",
      " 2   selling_price  3577 non-null   int64 \n",
      " 3   km_driven      3577 non-null   int64 \n",
      " 4   fuel           3577 non-null   object\n",
      " 5   seller_type    3577 non-null   object\n",
      " 6   transmission   3577 non-null   object\n",
      " 7   owner          3577 non-null   object\n",
      "dtypes: int64(3), object(5)\n",
      "memory usage: 223.7+ KB\n",
      "None\n"
     ]
    }
   ],
   "source": [
    "# Get information about the columns and data types\n",
    "print(df.info())"
   ]
  },
  {
   "cell_type": "code",
   "execution_count": 62,
   "id": "2c5f2574",
   "metadata": {},
   "outputs": [
    {
     "data": {
      "text/html": [
       "<div>\n",
       "<style scoped>\n",
       "    .dataframe tbody tr th:only-of-type {\n",
       "        vertical-align: middle;\n",
       "    }\n",
       "\n",
       "    .dataframe tbody tr th {\n",
       "        vertical-align: top;\n",
       "    }\n",
       "\n",
       "    .dataframe thead th {\n",
       "        text-align: right;\n",
       "    }\n",
       "</style>\n",
       "<table border=\"1\" class=\"dataframe\">\n",
       "  <thead>\n",
       "    <tr style=\"text-align: right;\">\n",
       "      <th></th>\n",
       "      <th>year</th>\n",
       "      <th>selling_price</th>\n",
       "      <th>km_driven</th>\n",
       "    </tr>\n",
       "  </thead>\n",
       "  <tbody>\n",
       "    <tr>\n",
       "      <th>count</th>\n",
       "      <td>3577</td>\n",
       "      <td>3577</td>\n",
       "      <td>3577</td>\n",
       "    </tr>\n",
       "    <tr>\n",
       "      <th>mean</th>\n",
       "      <td>2013</td>\n",
       "      <td>473913</td>\n",
       "      <td>69251</td>\n",
       "    </tr>\n",
       "    <tr>\n",
       "      <th>std</th>\n",
       "      <td>4</td>\n",
       "      <td>509302</td>\n",
       "      <td>47580</td>\n",
       "    </tr>\n",
       "    <tr>\n",
       "      <th>min</th>\n",
       "      <td>1992</td>\n",
       "      <td>20000</td>\n",
       "      <td>1</td>\n",
       "    </tr>\n",
       "    <tr>\n",
       "      <th>25%</th>\n",
       "      <td>2010</td>\n",
       "      <td>200000</td>\n",
       "      <td>36000</td>\n",
       "    </tr>\n",
       "    <tr>\n",
       "      <th>50%</th>\n",
       "      <td>2013</td>\n",
       "      <td>350000</td>\n",
       "      <td>60000</td>\n",
       "    </tr>\n",
       "    <tr>\n",
       "      <th>75%</th>\n",
       "      <td>2016</td>\n",
       "      <td>600000</td>\n",
       "      <td>90000</td>\n",
       "    </tr>\n",
       "    <tr>\n",
       "      <th>max</th>\n",
       "      <td>2020</td>\n",
       "      <td>8900000</td>\n",
       "      <td>806599</td>\n",
       "    </tr>\n",
       "  </tbody>\n",
       "</table>\n",
       "</div>"
      ],
      "text/plain": [
       "       year  selling_price  km_driven\n",
       "count  3577           3577       3577\n",
       "mean   2013         473913      69251\n",
       "std       4         509302      47580\n",
       "min    1992          20000          1\n",
       "25%    2010         200000      36000\n",
       "50%    2013         350000      60000\n",
       "75%    2016         600000      90000\n",
       "max    2020        8900000     806599"
      ]
     },
     "execution_count": 62,
     "metadata": {},
     "output_type": "execute_result"
    }
   ],
   "source": [
    "# statistics of the dataset\n",
    "pd.set_option('display.float_format', lambda x: '%.0f' % x)  # to remove e formate.\n",
    "df.describe()"
   ]
  },
  {
   "cell_type": "markdown",
   "id": "11c3bd7e",
   "metadata": {},
   "source": [
    "1.) Handle the null values"
   ]
  },
  {
   "cell_type": "code",
   "execution_count": 63,
   "id": "85e4b29d",
   "metadata": {},
   "outputs": [
    {
     "data": {
      "text/plain": [
       "car_name         0\n",
       "year             0\n",
       "selling_price    0\n",
       "km_driven        0\n",
       "fuel             0\n",
       "seller_type      0\n",
       "transmission     0\n",
       "owner            0\n",
       "dtype: int64"
      ]
     },
     "execution_count": 63,
     "metadata": {},
     "output_type": "execute_result"
    }
   ],
   "source": [
    "df.isnull().sum()        # There are no null values."
   ]
  },
  {
   "cell_type": "markdown",
   "id": "75f7f455",
   "metadata": {},
   "source": [
    "2.) Handle duplicate values"
   ]
  },
  {
   "cell_type": "code",
   "execution_count": 64,
   "id": "57ee106d",
   "metadata": {},
   "outputs": [
    {
     "data": {
      "text/plain": [
       "27"
      ]
     },
     "execution_count": 64,
     "metadata": {},
     "output_type": "execute_result"
    }
   ],
   "source": [
    "df.duplicated().sum()"
   ]
  },
  {
   "cell_type": "code",
   "execution_count": 65,
   "id": "3c9ec5d2",
   "metadata": {},
   "outputs": [],
   "source": [
    "df.drop_duplicates(inplace=True)"
   ]
  },
  {
   "cell_type": "code",
   "execution_count": 66,
   "id": "1e8330e7",
   "metadata": {},
   "outputs": [
    {
     "data": {
      "text/plain": [
       "(3550, 8)"
      ]
     },
     "execution_count": 66,
     "metadata": {},
     "output_type": "execute_result"
    }
   ],
   "source": [
    "df.shape"
   ]
  },
  {
   "cell_type": "code",
   "execution_count": 67,
   "id": "36c8cbec",
   "metadata": {},
   "outputs": [
    {
     "data": {
      "text/plain": [
       "car_name         object\n",
       "year              int64\n",
       "selling_price     int64\n",
       "km_driven         int64\n",
       "fuel             object\n",
       "seller_type      object\n",
       "transmission     object\n",
       "owner            object\n",
       "dtype: object"
      ]
     },
     "execution_count": 67,
     "metadata": {},
     "output_type": "execute_result"
    }
   ],
   "source": [
    "df.dtypes"
   ]
  },
  {
   "cell_type": "code",
   "execution_count": 68,
   "id": "5946bf4f",
   "metadata": {},
   "outputs": [
    {
     "data": {
      "text/plain": [
       "car_name\n",
       "Maruti           1057\n",
       "Hyundai           631\n",
       "Mahindra          324\n",
       "Tata              308\n",
       "Ford              220\n",
       "Honda             216\n",
       "Toyota            170\n",
       "Chevrolet         151\n",
       "Renault           108\n",
       "Volkswagen         93\n",
       "Nissan             52\n",
       "Skoda              49\n",
       "Fiat               32\n",
       "Audi               31\n",
       "Datsun             29\n",
       "BMW                25\n",
       "Mercedes-Benz      21\n",
       "Jaguar              5\n",
       "Mitsubishi          5\n",
       "Land                5\n",
       "Volvo               4\n",
       "Jeep                3\n",
       "Ambassador          3\n",
       "MG                  2\n",
       "OpelCorsa           2\n",
       "Daewoo              1\n",
       "Force               1\n",
       "Isuzu               1\n",
       "Kia                 1\n",
       "Name: count, dtype: int64"
      ]
     },
     "execution_count": 68,
     "metadata": {},
     "output_type": "execute_result"
    }
   ],
   "source": [
    "df.car_name.value_counts()"
   ]
  },
  {
   "cell_type": "code",
   "execution_count": 69,
   "id": "c8ba2a9e",
   "metadata": {},
   "outputs": [
    {
     "data": {
      "image/png": "[encoded data removed]",
      "text/plain": [
       "<Figure size 432x288 with 1 Axes>"
      ]
     },
     "metadata": {
      "needs_background": "light"
     },
     "output_type": "display_data"
    }
   ],
   "source": [
    "sns.countplot(data=df,x=\"car_name\")\n",
    "plt.xticks(rotation=90)\n",
    "plt.xlabel(\"Name\",fontsize=10,color=\"black\")\n",
    "plt.ylabel(\"Name\",fontsize=10,color=\"black\")\n",
    "plt.title(\"NAME COUNT\")\n",
    "plt.show()"
   ]
  },
  {
   "cell_type": "markdown",
   "id": "4d6b91ce",
   "metadata": {},
   "source": [
    "##### Maruti is the most common car.It shows in the graph."
   ]
  },
  {
   "cell_type": "code",
   "execution_count": 70,
   "id": "aa456535",
   "metadata": {},
   "outputs": [
    {
     "data": {
      "text/plain": [
       "year\n",
       "2017    343\n",
       "2012    338\n",
       "2015    330\n",
       "2014    317\n",
       "2013    296\n",
       "2018    294\n",
       "2016    280\n",
       "2011    246\n",
       "2010    208\n",
       "2009    169\n",
       "2019    158\n",
       "2008    128\n",
       "2007    114\n",
       "2006     93\n",
       "2005     60\n",
       "2020     45\n",
       "2004     38\n",
       "2003     22\n",
       "2002     18\n",
       "2001     16\n",
       "2000     12\n",
       "1998      9\n",
       "1999      9\n",
       "1997      3\n",
       "1996      2\n",
       "1995      1\n",
       "1992      1\n",
       "Name: count, dtype: int64"
      ]
     },
     "execution_count": 70,
     "metadata": {},
     "output_type": "execute_result"
    }
   ],
   "source": [
    "df.year.value_counts()"
   ]
  },
  {
   "cell_type": "code",
   "execution_count": 71,
   "id": "67910db2",
   "metadata": {},
   "outputs": [
    {
     "data": {
      "image/png": "[encoded data removed]",
      "text/plain": [
       "<Figure size 432x288 with 1 Axes>"
      ]
     },
     "metadata": {
      "needs_background": "light"
     },
     "output_type": "display_data"
    }
   ],
   "source": [
    "sns.countplot(data=df,x=\"year\")\n",
    "plt.xlabel(\"YEAR\",fontsize=10,color=\"Blue\")\n",
    "plt.ylabel(\"COUNT\",fontsize=10,color=\"Blue\")\n",
    "plt.title(\"YEAR COUNT\",color=\"RED\")\n",
    "plt.xticks(rotation=90)\n",
    "plt.show()"
   ]
  },
  {
   "cell_type": "markdown",
   "id": "e1879e51",
   "metadata": {},
   "source": [
    "##### Mostly car selling in year 2017."
   ]
  },
  {
   "cell_type": "code",
   "execution_count": 72,
   "id": "918ce282",
   "metadata": {},
   "outputs": [
    {
     "data": {
      "text/plain": [
       "fuel\n",
       "Diesel      1789\n",
       "Petrol      1701\n",
       "CNG           37\n",
       "LPG           22\n",
       "Electric       1\n",
       "Name: count, dtype: int64"
      ]
     },
     "execution_count": 72,
     "metadata": {},
     "output_type": "execute_result"
    }
   ],
   "source": [
    "df.fuel.value_counts()"
   ]
  },
  {
   "cell_type": "code",
   "execution_count": 73,
   "id": "ea72beb4",
   "metadata": {},
   "outputs": [
    {
     "data": {
      "image/png": "[encoded data removed]",
      "text/plain": [
       "<Figure size 432x288 with 1 Axes>"
      ]
     },
     "metadata": {
      "needs_background": "light"
     },
     "output_type": "display_data"
    }
   ],
   "source": [
    "sns.countplot(data=df,x=\"fuel\") \n",
    "plt.xlabel(\"FUEL\") \n",
    "plt.ylabel(\"COUNT\") \n",
    "plt.title(\"FUEL COUNT\",color=\"blue\")\n",
    "plt.grid()\n",
    "plt.show()"
   ]
  },
  {
   "cell_type": "markdown",
   "id": "1c9ec5b9",
   "metadata": {},
   "source": [
    "#### In this table, it is seen that the most common type of fuel is diesel, followed by petroleum."
   ]
  },
  {
   "cell_type": "code",
   "execution_count": 74,
   "id": "b181c867",
   "metadata": {},
   "outputs": [
    {
     "data": {
      "text/plain": [
       "seller_type\n",
       "Individual          2805\n",
       "Dealer               712\n",
       "Trustmark Dealer      33\n",
       "Name: count, dtype: int64"
      ]
     },
     "execution_count": 74,
     "metadata": {},
     "output_type": "execute_result"
    }
   ],
   "source": [
    "df.seller_type.value_counts()"
   ]
  },
  {
   "cell_type": "code",
   "execution_count": 75,
   "id": "a7222029",
   "metadata": {},
   "outputs": [
    {
     "data": {
      "image/png": "[encoded data removed]",
      "text/plain": [
       "<Figure size 432x288 with 1 Axes>"
      ]
     },
     "metadata": {
      "needs_background": "light"
     },
     "output_type": "display_data"
    }
   ],
   "source": [
    "sns.countplot(data=df,x=\"seller_type\")\n",
    "plt.xlabel(\"SELLER TYPE\")\n",
    "plt.ylabel(\"COUNT\")\n",
    "plt.title(\"SELLER TYPE COUNT\",color=\"brown\")\n",
    "plt.show()"
   ]
  },
  {
   "cell_type": "markdown",
   "id": "7896b106",
   "metadata": {},
   "source": [
    "#### This is a table showing where sales are made. Individual sales are the highest."
   ]
  },
  {
   "cell_type": "code",
   "execution_count": 76,
   "id": "9cb40bab",
   "metadata": {},
   "outputs": [
    {
     "data": {
      "text/plain": [
       "transmission\n",
       "Manual       3238\n",
       "Automatic     312\n",
       "Name: count, dtype: int64"
      ]
     },
     "execution_count": 76,
     "metadata": {},
     "output_type": "execute_result"
    }
   ],
   "source": [
    "df.transmission.value_counts()"
   ]
  },
  {
   "cell_type": "code",
   "execution_count": 77,
   "id": "aacb920d",
   "metadata": {},
   "outputs": [
    {
     "data": {
      "image/png": "[encoded data removed]",
      "text/plain": [
       "<Figure size 432x288 with 1 Axes>"
      ]
     },
     "metadata": {
      "needs_background": "light"
     },
     "output_type": "display_data"
    }
   ],
   "source": [
    "sns.countplot(data=df,x=\"transmission\")\n",
    "plt.xlabel(\"TRANMISSION\")\n",
    "plt.ylabel(\"COUNT\")\n",
    "plt.title(\"TRANMISSION COUNT\",color=\"GREEN\")\n",
    "plt.show()"
   ]
  },
  {
   "cell_type": "code",
   "execution_count": 78,
   "id": "adc37d39",
   "metadata": {},
   "outputs": [
    {
     "data": {
      "text/plain": [
       "owner\n",
       "First Owner             2199\n",
       "Second Owner             970\n",
       "Third Owner              289\n",
       "Fourth & Above Owner      75\n",
       "Test Drive Car            17\n",
       "Name: count, dtype: int64"
      ]
     },
     "execution_count": 78,
     "metadata": {},
     "output_type": "execute_result"
    }
   ],
   "source": [
    "df.owner.value_counts()"
   ]
  },
  {
   "cell_type": "code",
   "execution_count": 79,
   "id": "4f8c03c4",
   "metadata": {},
   "outputs": [
    {
     "data": {
      "image/png": "[encoded data removed]",
      "text/plain": [
       "<Figure size 432x288 with 1 Axes>"
      ]
     },
     "metadata": {
      "needs_background": "light"
     },
     "output_type": "display_data"
    }
   ],
   "source": [
    "sns.countplot(data=df,x=\"owner\")\n",
    "plt.xlabel(\"OWNER\")\n",
    "plt.ylabel(\"COUNT\")\n",
    "plt.title(\"OWNER COUNT\",color=\"purple\")\n",
    "plt.xticks(rotation=30)\n",
    "plt.show()"
   ]
  },
  {
   "cell_type": "code",
   "execution_count": 80,
   "id": "80e45502",
   "metadata": {},
   "outputs": [
    {
     "data": {
      "image/png": "[encoded data removed]",
      "text/plain": [
       "<Figure size 576x432 with 1 Axes>"
      ]
     },
     "metadata": {
      "needs_background": "light"
     },
     "output_type": "display_data"
    }
   ],
   "source": [
    "plt.figure(figsize=(8, 6))\n",
    "sns.scatterplot(x='selling_price', y='km_driven', data=df)\n",
    "plt.title('selling_price vs km_driven')\n",
    "plt.xlabel('selling_price')\n",
    "plt.ylabel('km_driven')\n",
    "plt.show()"
   ]
  },
  {
   "cell_type": "code",
   "execution_count": 81,
   "id": "e94d32b4",
   "metadata": {},
   "outputs": [
    {
     "data": {
      "image/png": "[encoded data removed]",
      "text/plain": [
       "<Figure size 432x288 with 1 Axes>"
      ]
     },
     "metadata": {
      "needs_background": "light"
     },
     "output_type": "display_data"
    }
   ],
   "source": [
    "sns.scatterplot(x='selling_price', y='fuel', data=df)\n",
    "plt.title('selling_price vs fuel')\n",
    "plt.xlabel('selling_price')\n",
    "plt.ylabel('fuel')\n",
    "plt.show()"
   ]
  },
  {
   "cell_type": "code",
   "execution_count": 82,
   "id": "a04510b4",
   "metadata": {},
   "outputs": [
    {
     "data": {
      "image/png": "[encoded data removed]",
      "text/plain": [
       "<Figure size 432x288 with 1 Axes>"
      ]
     },
     "metadata": {
      "needs_background": "light"
     },
     "output_type": "display_data"
    }
   ],
   "source": [
    "sns.scatterplot(y='selling_price', x='transmission', data=df)\n",
    "plt.title('selling_price vs transmission')\n",
    "plt.xlabel('selling_price')\n",
    "plt.ylabel('transmission')\n",
    "plt.show()"
   ]
  },
  {
   "cell_type": "code",
   "execution_count": 83,
   "id": "244c9686",
   "metadata": {},
   "outputs": [],
   "source": [
    "numeric_columns = df.select_dtypes(include='number').columns\n",
    "correlation_matrix = df[numeric_columns].corr()"
   ]
  },
  {
   "cell_type": "code",
   "execution_count": 84,
   "id": "a8febc24",
   "metadata": {
    "scrolled": true
   },
   "outputs": [
    {
     "data": {
      "image/png": "[encoded data removed]",
      "text/plain": [
       "<Figure size 432x288 with 2 Axes>"
      ]
     },
     "metadata": {
      "needs_background": "light"
     },
     "output_type": "display_data"
    }
   ],
   "source": [
    "sns.heatmap(correlation_matrix, annot=True, cmap='coolwarm')\n",
    "plt.title('Correlation Matrix')\n",
    "plt.show()"
   ]
  },
  {
   "cell_type": "code",
   "execution_count": null,
   "id": "18be7ab8",
   "metadata": {},
   "outputs": [],
   "source": []
  },
  {
   "cell_type": "markdown",
   "id": "6dd9e448",
   "metadata": {},
   "source": [
    "#### We will handle Encoding catgeorical columns using ColumnTransformer"
   ]
  },
  {
   "cell_type": "markdown",
   "id": "c6de68be",
   "metadata": {},
   "source": [
    "#### Select x(independent features) and y(dependent feature)"
   ]
  },
  {
   "cell_type": "code",
   "execution_count": 85,
   "id": "e80bf357",
   "metadata": {},
   "outputs": [
    {
     "name": "stdout",
     "output_type": "stream",
     "text": [
      "<class 'pandas.core.frame.DataFrame'>\n",
      "<class 'pandas.core.series.Series'>\n",
      "(3550, 7)\n",
      "(3550,)\n"
     ]
    }
   ],
   "source": [
    "x = df.drop('selling_price',axis=1)\n",
    "y = df['selling_price']\n",
    "print(type(x))\n",
    "print(type(y))\n",
    "print(x.shape)\n",
    "print(y.shape)"
   ]
  },
  {
   "cell_type": "code",
   "execution_count": 86,
   "id": "d9992684",
   "metadata": {},
   "outputs": [],
   "source": [
    "#### Split the data into train and test"
   ]
  },
  {
   "cell_type": "code",
   "execution_count": 87,
   "id": "4723a6b3",
   "metadata": {},
   "outputs": [],
   "source": [
    "from sklearn.model_selection import train_test_split"
   ]
  },
  {
   "cell_type": "code",
   "execution_count": 102,
   "id": "cde5a3ad",
   "metadata": {},
   "outputs": [
    {
     "name": "stdout",
     "output_type": "stream",
     "text": [
      "(2662, 7)\n",
      "(888, 7)\n",
      "(2662,)\n",
      "(888,)\n"
     ]
    }
   ],
   "source": [
    "x_train,x_test,y_train,y_test = train_test_split(x,y,test_size=0.25,random_state=45)\n",
    "print(x_train.shape)\n",
    "print(x_test.shape)\n",
    "print(y_train.shape)\n",
    "print(y_test.shape)"
   ]
  },
  {
   "cell_type": "code",
   "execution_count": null,
   "id": "7ce33f16",
   "metadata": {},
   "outputs": [],
   "source": [
    "#### Create function to cpmute MSE, RMSE, MAE,Trai and Test Test Score"
   ]
  },
  {
   "cell_type": "code",
   "execution_count": 89,
   "id": "d19f4b20",
   "metadata": {},
   "outputs": [],
   "source": [
    "from sklearn.metrics import mean_squared_error,mean_absolute_error,r2_score"
   ]
  },
  {
   "cell_type": "code",
   "execution_count": 90,
   "id": "0327f6f2",
   "metadata": {},
   "outputs": [],
   "source": [
    "def eval_model(ytest,ypred):\n",
    "    mae = mean_absolute_error(ytest,ypred)\n",
    "    mse = mean_squared_error(ytest,ypred)\n",
    "    rmse = np.sqrt(mse)\n",
    "    r2s = r2_score(ytest,ypred)\n",
    "    print('MAE',mae)\n",
    "    print('MSE',mse)\n",
    "    print('RMSE',rmse)\n",
    "    print('R2 Score',r2s)"
   ]
  },
  {
   "cell_type": "code",
   "execution_count": 91,
   "id": "4c1089a0",
   "metadata": {},
   "outputs": [],
   "source": [
    "#### Import ML model building libraries"
   ]
  },
  {
   "cell_type": "code",
   "execution_count": 98,
   "id": "60cccdd3",
   "metadata": {},
   "outputs": [],
   "source": [
    "from sklearn.linear_model import LinearRegression\n",
    "from sklearn.ensemble import RandomForestRegressor, GradientBoostingRegressor\n",
    "from sklearn.tree import DecisionTreeRegressor\n",
    "from sklearn.preprocessing import OneHotEncoder\n",
    "from sklearn.compose import ColumnTransformer\n",
    "from sklearn.pipeline import Pipeline"
   ]
  },
  {
   "cell_type": "code",
   "execution_count": 94,
   "id": "47a43b83",
   "metadata": {},
   "outputs": [
    {
     "data": {
      "text/plain": [
       "car_name        object\n",
       "year             int64\n",
       "km_driven        int64\n",
       "fuel            object\n",
       "seller_type     object\n",
       "transmission    object\n",
       "owner           object\n",
       "dtype: object"
      ]
     },
     "execution_count": 94,
     "metadata": {},
     "output_type": "execute_result"
    }
   ],
   "source": [
    "x_train.dtypes"
   ]
  },
  {
   "cell_type": "markdown",
   "id": "5b57e908",
   "metadata": {},
   "source": [
    "#### Columns index that needs to undergo OnehOtEncoding - [0,3,4,5,6]"
   ]
  },
  {
   "cell_type": "markdown",
   "id": "a86b794d",
   "metadata": {},
   "source": [
    "#### 1) LinearRegression"
   ]
  },
  {
   "cell_type": "code",
   "execution_count": 104,
   "id": "799226a6",
   "metadata": {},
   "outputs": [
    {
     "name": "stdout",
     "output_type": "stream",
     "text": [
      "MAE 167205.6070107462\n",
      "MSE 87342394143.52852\n",
      "RMSE 295537.4665647801\n",
      "R2 Score 0.6727063066045391\n"
     ]
    },
    {
     "name": "stderr",
     "output_type": "stream",
     "text": [
      "C:\\Users\\ADMIN\\anaconda3\\lib\\site-packages\\sklearn\\preprocessing\\_encoders.py:868: FutureWarning: `sparse` was renamed to `sparse_output` in version 1.2 and will be removed in 1.4. `sparse_output` is ignored unless you leave `sparse` to its default value.\n",
      "  warnings.warn(\n"
     ]
    }
   ],
   "source": [
    "step1 = ColumnTransformer(transformers=\n",
    "                          [('ohe',OneHotEncoder(drop='first',sparse=False),[0,3,4,5,6])],\n",
    "                              remainder='passthrough')\n",
    "step2 = LinearRegression()\n",
    "\n",
    "pipe_lr = Pipeline([('step1',step1),('step2',step2)])\n",
    "\n",
    "pipe_lr.fit(x_train,y_train)\n",
    "\n",
    "ypred_lr = pipe_lr.predict(x_test)\n",
    "\n",
    "eval_model(y_test,ypred_lr)"
   ]
  },
  {
   "cell_type": "markdown",
   "id": "96884363",
   "metadata": {},
   "source": [
    "#### 4) RandomForest Model"
   ]
  },
  {
   "cell_type": "code",
   "execution_count": 103,
   "id": "328d0dec",
   "metadata": {},
   "outputs": [
    {
     "name": "stderr",
     "output_type": "stream",
     "text": [
      "C:\\Users\\ADMIN\\anaconda3\\lib\\site-packages\\sklearn\\preprocessing\\_encoders.py:868: FutureWarning: `sparse` was renamed to `sparse_output` in version 1.2 and will be removed in 1.4. `sparse_output` is ignored unless you leave `sparse` to its default value.\n",
      "  warnings.warn(\n"
     ]
    },
    {
     "name": "stdout",
     "output_type": "stream",
     "text": [
      "MAE 145244.8217069655\n",
      "MSE 75047385962.52423\n",
      "RMSE 273947.77962692856\n",
      "R2 Score 0.7187787629111018\n"
     ]
    }
   ],
   "source": [
    "step1 = ColumnTransformer(transformers=\n",
    "                          [('ohe',OneHotEncoder(drop='first',sparse=False),[0,3,4,5,6])],\n",
    "                              remainder='passthrough')\n",
    "step2 = RandomForestRegressor(n_estimators=100,max_depth=8,min_samples_split=11,random_state=45)\n",
    "\n",
    "pipe_rf = Pipeline([('step1',step1),('step2',step2)])\n",
    "\n",
    "pipe_rf.fit(x_train,y_train)\n",
    "\n",
    "ypred_rf = pipe_rf.predict(x_test)\n",
    "\n",
    "eval_model(y_test,ypred_rf)"
   ]
  },
  {
   "cell_type": "markdown",
   "id": "314ffeb4",
   "metadata": {},
   "source": [
    "#### 5) Decision Tree Regressor"
   ]
  },
  {
   "cell_type": "code",
   "execution_count": 97,
   "id": "2198d571",
   "metadata": {},
   "outputs": [
    {
     "name": "stdout",
     "output_type": "stream",
     "text": [
      "MAE 175922.85220576226\n",
      "MSE 148925594232.00626\n",
      "RMSE 385908.79004242213\n",
      "R2 Score 0.5286741168058857\n"
     ]
    },
    {
     "name": "stderr",
     "output_type": "stream",
     "text": [
      "C:\\Users\\ADMIN\\anaconda3\\lib\\site-packages\\sklearn\\preprocessing\\_encoders.py:868: FutureWarning: `sparse` was renamed to `sparse_output` in version 1.2 and will be removed in 1.4. `sparse_output` is ignored unless you leave `sparse` to its default value.\n",
      "  warnings.warn(\n"
     ]
    }
   ],
   "source": [
    "step1 = ColumnTransformer(transformers=\n",
    "                          [('ohe',OneHotEncoder(drop='first',sparse=False),[0,3,4,5,6])],\n",
    "                              remainder='passthrough')\n",
    "step2 = DecisionTreeRegressor(max_depth=8,min_samples_split=11,random_state=5)\n",
    "\n",
    "pipe_dt = Pipeline([('step1',step1),('step2',step2)])\n",
    "\n",
    "pipe_dt.fit(x_train,y_train)\n",
    "\n",
    "ypred_dt = pipe_dt.predict(x_test)\n",
    "\n",
    "eval_model(y_test,ypred_dt)"
   ]
  },
  {
   "cell_type": "markdown",
   "id": "4bd79dc2",
   "metadata": {},
   "source": [
    "#### 6.) GradientBoostingRegressor"
   ]
  },
  {
   "cell_type": "code",
   "execution_count": 99,
   "id": "b1b9e85c",
   "metadata": {},
   "outputs": [
    {
     "name": "stderr",
     "output_type": "stream",
     "text": [
      "C:\\Users\\ADMIN\\anaconda3\\lib\\site-packages\\sklearn\\preprocessing\\_encoders.py:868: FutureWarning: `sparse` was renamed to `sparse_output` in version 1.2 and will be removed in 1.4. `sparse_output` is ignored unless you leave `sparse` to its default value.\n",
      "  warnings.warn(\n"
     ]
    },
    {
     "name": "stdout",
     "output_type": "stream",
     "text": [
      "MAE 175922.85220576226\n",
      "MSE 148925594232.00626\n",
      "RMSE 385908.79004242213\n",
      "R2 Score 0.5286741168058857\n"
     ]
    }
   ],
   "source": [
    "step1 = ColumnTransformer(transformers=\n",
    "                          [('ohe',OneHotEncoder(drop='first',sparse=False),[0,3,4,5,6])],\n",
    "                              remainder='passthrough')\n",
    "step2 = GradientBoostingRegressor(max_depth=8,min_samples_split=11,random_state=5)\n",
    "\n",
    "pipe_gbr = Pipeline([('step1',step1),('step2',step2)])\n",
    "\n",
    "pipe_gbr.fit(x_train,y_train)\n",
    "\n",
    "ypred_gbr = pipe_dt.predict(x_test)\n",
    "\n",
    "eval_model(y_test,ypred_dt)"
   ]
  },
  {
   "cell_type": "markdown",
   "id": "5135665b",
   "metadata": {},
   "source": [
    "#### rf is the best performing model based on RMSE and r2_score."
   ]
  },
  {
   "cell_type": "code",
   "execution_count": null,
   "id": "ed4e5559",
   "metadata": {},
   "outputs": [],
   "source": [
    "#### Model Saving"
   ]
  },
  {
   "cell_type": "code",
   "execution_count": 105,
   "id": "6411559d",
   "metadata": {},
   "outputs": [],
   "source": [
    "import pickle"
   ]
  },
  {
   "cell_type": "code",
   "execution_count": 106,
   "id": "61c76d0d",
   "metadata": {},
   "outputs": [],
   "source": [
    "pickle.dump(pipe_dt,open('rf_model.pkl','wb'))   # Saving the best performing model\n",
    "pickle.dump(df,open('car_model_data.pkl','wb'))              # Saving the dataset"
   ]
  },
  {
   "cell_type": "code",
   "execution_count": 107,
   "id": "602b3251",
   "metadata": {},
   "outputs": [],
   "source": [
    "# Load the saved model\n",
    "loaded_model = pickle.load(open('rf_model.pkl', 'rb'))"
   ]
  },
  {
   "cell_type": "code",
   "execution_count": 108,
   "id": "d6bba789",
   "metadata": {},
   "outputs": [],
   "source": [
    "# Load the dataset\n",
    "loaded_data = pickle.load(open('car_model_data.pkl', 'rb'))"
   ]
  },
  {
   "cell_type": "code",
   "execution_count": 109,
   "id": "22442f4e",
   "metadata": {},
   "outputs": [],
   "source": [
    "# Randomly select 20 data points from the loaded dataset\n",
    "sample_data = loaded_data.sample(n=20, random_state=42)"
   ]
  },
  {
   "cell_type": "code",
   "execution_count": 110,
   "id": "c0277a93",
   "metadata": {},
   "outputs": [],
   "source": [
    "# Extract the features from the sample data\n",
    "X_sample = sample_data.drop('selling_price', axis=1)"
   ]
  },
  {
   "cell_type": "code",
   "execution_count": 111,
   "id": "5bca3b97",
   "metadata": {},
   "outputs": [],
   "source": [
    "# Apply the saved model on the sample data\n",
    "y_pred = loaded_model.predict(X_sample)"
   ]
  },
  {
   "cell_type": "code",
   "execution_count": 112,
   "id": "ed96c22f",
   "metadata": {},
   "outputs": [
    {
     "name": "stdout",
     "output_type": "stream",
     "text": [
      "Predicted selling prices:\n",
      "[ 284098.15178571  463312.5         860292.26153846 2373679.22641509\n",
      "  171030.22131148  860292.26153846  768799.92        395252.97590361\n",
      " 1037800.          231706.66165414  342188.25523013  280358.17910448\n",
      "  587459.40540541  284098.15178571  284098.15178571  284098.15178571\n",
      "   83967.7047619    67727.27272727  548633.8028169   272500.        ]\n"
     ]
    }
   ],
   "source": [
    "# Print the predictions\n",
    "print(\"Predicted selling prices:\")\n",
    "print(y_pred)"
   ]
  },
  {
   "cell_type": "code",
   "execution_count": 114,
   "id": "39ec1bbc",
   "metadata": {},
   "outputs": [],
   "source": [
    "# Create a DataFrame with the actual and predicted data\n",
    "results = pd.DataFrame({\n",
    "    'Actual Selling Price': sample_data['selling_price'],\n",
    "    'Predicted Selling Price': y_pred})"
   ]
  },
  {
   "cell_type": "code",
   "execution_count": 116,
   "id": "51bdc1bd",
   "metadata": {},
   "outputs": [
    {
     "data": {
      "text/html": [
       "<div>\n",
       "<style scoped>\n",
       "    .dataframe tbody tr th:only-of-type {\n",
       "        vertical-align: middle;\n",
       "    }\n",
       "\n",
       "    .dataframe tbody tr th {\n",
       "        vertical-align: top;\n",
       "    }\n",
       "\n",
       "    .dataframe thead th {\n",
       "        text-align: right;\n",
       "    }\n",
       "</style>\n",
       "<table border=\"1\" class=\"dataframe\">\n",
       "  <thead>\n",
       "    <tr style=\"text-align: right;\">\n",
       "      <th></th>\n",
       "      <th>Actual Selling Price</th>\n",
       "      <th>Predicted Selling Price</th>\n",
       "    </tr>\n",
       "  </thead>\n",
       "  <tbody>\n",
       "    <tr>\n",
       "      <th>299</th>\n",
       "      <td>250000</td>\n",
       "      <td>284098</td>\n",
       "    </tr>\n",
       "    <tr>\n",
       "      <th>1568</th>\n",
       "      <td>400000</td>\n",
       "      <td>463312</td>\n",
       "    </tr>\n",
       "    <tr>\n",
       "      <th>1005</th>\n",
       "      <td>650000</td>\n",
       "      <td>860292</td>\n",
       "    </tr>\n",
       "    <tr>\n",
       "      <th>2485</th>\n",
       "      <td>325000</td>\n",
       "      <td>2373679</td>\n",
       "    </tr>\n",
       "    <tr>\n",
       "      <th>3045</th>\n",
       "      <td>165000</td>\n",
       "      <td>171030</td>\n",
       "    </tr>\n",
       "    <tr>\n",
       "      <th>1785</th>\n",
       "      <td>750000</td>\n",
       "      <td>860292</td>\n",
       "    </tr>\n",
       "    <tr>\n",
       "      <th>1389</th>\n",
       "      <td>475000</td>\n",
       "      <td>768800</td>\n",
       "    </tr>\n",
       "    <tr>\n",
       "      <th>1008</th>\n",
       "      <td>625000</td>\n",
       "      <td>395253</td>\n",
       "    </tr>\n",
       "    <tr>\n",
       "      <th>1068</th>\n",
       "      <td>430000</td>\n",
       "      <td>1037800</td>\n",
       "    </tr>\n",
       "    <tr>\n",
       "      <th>3039</th>\n",
       "      <td>254999</td>\n",
       "      <td>231707</td>\n",
       "    </tr>\n",
       "    <tr>\n",
       "      <th>782</th>\n",
       "      <td>325000</td>\n",
       "      <td>342188</td>\n",
       "    </tr>\n",
       "    <tr>\n",
       "      <th>622</th>\n",
       "      <td>250000</td>\n",
       "      <td>280358</td>\n",
       "    </tr>\n",
       "    <tr>\n",
       "      <th>1805</th>\n",
       "      <td>380000</td>\n",
       "      <td>587459</td>\n",
       "    </tr>\n",
       "    <tr>\n",
       "      <th>1911</th>\n",
       "      <td>370000</td>\n",
       "      <td>284098</td>\n",
       "    </tr>\n",
       "    <tr>\n",
       "      <th>1963</th>\n",
       "      <td>509999</td>\n",
       "      <td>284098</td>\n",
       "    </tr>\n",
       "    <tr>\n",
       "      <th>2762</th>\n",
       "      <td>250000</td>\n",
       "      <td>284098</td>\n",
       "    </tr>\n",
       "    <tr>\n",
       "      <th>443</th>\n",
       "      <td>43000</td>\n",
       "      <td>83968</td>\n",
       "    </tr>\n",
       "    <tr>\n",
       "      <th>1071</th>\n",
       "      <td>60000</td>\n",
       "      <td>67727</td>\n",
       "    </tr>\n",
       "    <tr>\n",
       "      <th>2413</th>\n",
       "      <td>700000</td>\n",
       "      <td>548634</td>\n",
       "    </tr>\n",
       "    <tr>\n",
       "      <th>1402</th>\n",
       "      <td>550000</td>\n",
       "      <td>272500</td>\n",
       "    </tr>\n",
       "  </tbody>\n",
       "</table>\n",
       "</div>"
      ],
      "text/plain": [
       "      Actual Selling Price  Predicted Selling Price\n",
       "299                 250000                   284098\n",
       "1568                400000                   463312\n",
       "1005                650000                   860292\n",
       "2485                325000                  2373679\n",
       "3045                165000                   171030\n",
       "1785                750000                   860292\n",
       "1389                475000                   768800\n",
       "1008                625000                   395253\n",
       "1068                430000                  1037800\n",
       "3039                254999                   231707\n",
       "782                 325000                   342188\n",
       "622                 250000                   280358\n",
       "1805                380000                   587459\n",
       "1911                370000                   284098\n",
       "1963                509999                   284098\n",
       "2762                250000                   284098\n",
       "443                  43000                    83968\n",
       "1071                 60000                    67727\n",
       "2413                700000                   548634\n",
       "1402                550000                   272500"
      ]
     },
     "execution_count": 116,
     "metadata": {},
     "output_type": "execute_result"
    }
   ],
   "source": [
    "# Display the results\n",
    "results"
   ]
  },
  {
   "cell_type": "code",
   "execution_count": 117,
   "id": "90851402",
   "metadata": {},
   "outputs": [],
   "source": [
    "# Add the predicted values as a new column to the sample_data dataframe\n",
    "sample_data['Predicted Selling Price'] = y_pred"
   ]
  },
  {
   "cell_type": "code",
   "execution_count": 119,
   "id": "249e68bd",
   "metadata": {},
   "outputs": [
    {
     "data": {
      "text/html": [
       "<div>\n",
       "<style scoped>\n",
       "    .dataframe tbody tr th:only-of-type {\n",
       "        vertical-align: middle;\n",
       "    }\n",
       "\n",
       "    .dataframe tbody tr th {\n",
       "        vertical-align: top;\n",
       "    }\n",
       "\n",
       "    .dataframe thead th {\n",
       "        text-align: right;\n",
       "    }\n",
       "</style>\n",
       "<table border=\"1\" class=\"dataframe\">\n",
       "  <thead>\n",
       "    <tr style=\"text-align: right;\">\n",
       "      <th></th>\n",
       "      <th>car_name</th>\n",
       "      <th>year</th>\n",
       "      <th>selling_price</th>\n",
       "      <th>km_driven</th>\n",
       "      <th>fuel</th>\n",
       "      <th>seller_type</th>\n",
       "      <th>transmission</th>\n",
       "      <th>owner</th>\n",
       "      <th>Predicted Selling Price</th>\n",
       "    </tr>\n",
       "  </thead>\n",
       "  <tbody>\n",
       "    <tr>\n",
       "      <th>299</th>\n",
       "      <td>Datsun</td>\n",
       "      <td>2015</td>\n",
       "      <td>250000</td>\n",
       "      <td>40000</td>\n",
       "      <td>Petrol</td>\n",
       "      <td>Individual</td>\n",
       "      <td>Manual</td>\n",
       "      <td>Second Owner</td>\n",
       "      <td>284098</td>\n",
       "    </tr>\n",
       "    <tr>\n",
       "      <th>1568</th>\n",
       "      <td>Honda</td>\n",
       "      <td>2014</td>\n",
       "      <td>400000</td>\n",
       "      <td>15000</td>\n",
       "      <td>Petrol</td>\n",
       "      <td>Individual</td>\n",
       "      <td>Automatic</td>\n",
       "      <td>First Owner</td>\n",
       "      <td>463312</td>\n",
       "    </tr>\n",
       "    <tr>\n",
       "      <th>1005</th>\n",
       "      <td>Hyundai</td>\n",
       "      <td>2018</td>\n",
       "      <td>650000</td>\n",
       "      <td>37000</td>\n",
       "      <td>Diesel</td>\n",
       "      <td>Dealer</td>\n",
       "      <td>Manual</td>\n",
       "      <td>First Owner</td>\n",
       "      <td>860292</td>\n",
       "    </tr>\n",
       "    <tr>\n",
       "      <th>2485</th>\n",
       "      <td>Volkswagen</td>\n",
       "      <td>2014</td>\n",
       "      <td>325000</td>\n",
       "      <td>70000</td>\n",
       "      <td>Diesel</td>\n",
       "      <td>Individual</td>\n",
       "      <td>Automatic</td>\n",
       "      <td>First Owner</td>\n",
       "      <td>2373679</td>\n",
       "    </tr>\n",
       "    <tr>\n",
       "      <th>3045</th>\n",
       "      <td>Fiat</td>\n",
       "      <td>2010</td>\n",
       "      <td>165000</td>\n",
       "      <td>100000</td>\n",
       "      <td>Petrol</td>\n",
       "      <td>Individual</td>\n",
       "      <td>Manual</td>\n",
       "      <td>Fourth &amp; Above Owner</td>\n",
       "      <td>171030</td>\n",
       "    </tr>\n",
       "    <tr>\n",
       "      <th>1785</th>\n",
       "      <td>Ford</td>\n",
       "      <td>2019</td>\n",
       "      <td>750000</td>\n",
       "      <td>25000</td>\n",
       "      <td>Diesel</td>\n",
       "      <td>Individual</td>\n",
       "      <td>Manual</td>\n",
       "      <td>First Owner</td>\n",
       "      <td>860292</td>\n",
       "    </tr>\n",
       "    <tr>\n",
       "      <th>1389</th>\n",
       "      <td>Hyundai</td>\n",
       "      <td>2019</td>\n",
       "      <td>475000</td>\n",
       "      <td>10000</td>\n",
       "      <td>Petrol</td>\n",
       "      <td>Individual</td>\n",
       "      <td>Automatic</td>\n",
       "      <td>First Owner</td>\n",
       "      <td>768800</td>\n",
       "    </tr>\n",
       "    <tr>\n",
       "      <th>1008</th>\n",
       "      <td>Maruti</td>\n",
       "      <td>2016</td>\n",
       "      <td>625000</td>\n",
       "      <td>30000</td>\n",
       "      <td>Petrol</td>\n",
       "      <td>Dealer</td>\n",
       "      <td>Manual</td>\n",
       "      <td>First Owner</td>\n",
       "      <td>395253</td>\n",
       "    </tr>\n",
       "    <tr>\n",
       "      <th>1068</th>\n",
       "      <td>Mahindra</td>\n",
       "      <td>2016</td>\n",
       "      <td>430000</td>\n",
       "      <td>20000</td>\n",
       "      <td>Diesel</td>\n",
       "      <td>Individual</td>\n",
       "      <td>Manual</td>\n",
       "      <td>First Owner</td>\n",
       "      <td>1037800</td>\n",
       "    </tr>\n",
       "    <tr>\n",
       "      <th>3039</th>\n",
       "      <td>Hyundai</td>\n",
       "      <td>2011</td>\n",
       "      <td>254999</td>\n",
       "      <td>24000</td>\n",
       "      <td>Petrol</td>\n",
       "      <td>Dealer</td>\n",
       "      <td>Manual</td>\n",
       "      <td>First Owner</td>\n",
       "      <td>231707</td>\n",
       "    </tr>\n",
       "    <tr>\n",
       "      <th>782</th>\n",
       "      <td>Ford</td>\n",
       "      <td>2011</td>\n",
       "      <td>325000</td>\n",
       "      <td>100000</td>\n",
       "      <td>Diesel</td>\n",
       "      <td>Individual</td>\n",
       "      <td>Manual</td>\n",
       "      <td>Second Owner</td>\n",
       "      <td>342188</td>\n",
       "    </tr>\n",
       "    <tr>\n",
       "      <th>622</th>\n",
       "      <td>Volkswagen</td>\n",
       "      <td>2010</td>\n",
       "      <td>250000</td>\n",
       "      <td>100000</td>\n",
       "      <td>Diesel</td>\n",
       "      <td>Dealer</td>\n",
       "      <td>Manual</td>\n",
       "      <td>First Owner</td>\n",
       "      <td>280358</td>\n",
       "    </tr>\n",
       "    <tr>\n",
       "      <th>1805</th>\n",
       "      <td>Tata</td>\n",
       "      <td>2016</td>\n",
       "      <td>380000</td>\n",
       "      <td>38000</td>\n",
       "      <td>Diesel</td>\n",
       "      <td>Dealer</td>\n",
       "      <td>Manual</td>\n",
       "      <td>First Owner</td>\n",
       "      <td>587459</td>\n",
       "    </tr>\n",
       "    <tr>\n",
       "      <th>1911</th>\n",
       "      <td>Maruti</td>\n",
       "      <td>2015</td>\n",
       "      <td>370000</td>\n",
       "      <td>50000</td>\n",
       "      <td>Petrol</td>\n",
       "      <td>Individual</td>\n",
       "      <td>Manual</td>\n",
       "      <td>Second Owner</td>\n",
       "      <td>284098</td>\n",
       "    </tr>\n",
       "    <tr>\n",
       "      <th>1963</th>\n",
       "      <td>Toyota</td>\n",
       "      <td>2016</td>\n",
       "      <td>509999</td>\n",
       "      <td>35000</td>\n",
       "      <td>Petrol</td>\n",
       "      <td>Individual</td>\n",
       "      <td>Manual</td>\n",
       "      <td>First Owner</td>\n",
       "      <td>284098</td>\n",
       "    </tr>\n",
       "    <tr>\n",
       "      <th>2762</th>\n",
       "      <td>Tata</td>\n",
       "      <td>2015</td>\n",
       "      <td>250000</td>\n",
       "      <td>120000</td>\n",
       "      <td>Petrol</td>\n",
       "      <td>Individual</td>\n",
       "      <td>Manual</td>\n",
       "      <td>Second Owner</td>\n",
       "      <td>284098</td>\n",
       "    </tr>\n",
       "    <tr>\n",
       "      <th>443</th>\n",
       "      <td>Maruti</td>\n",
       "      <td>2001</td>\n",
       "      <td>43000</td>\n",
       "      <td>100000</td>\n",
       "      <td>Petrol</td>\n",
       "      <td>Individual</td>\n",
       "      <td>Manual</td>\n",
       "      <td>Second Owner</td>\n",
       "      <td>83968</td>\n",
       "    </tr>\n",
       "    <tr>\n",
       "      <th>1071</th>\n",
       "      <td>Tata</td>\n",
       "      <td>2011</td>\n",
       "      <td>60000</td>\n",
       "      <td>40000</td>\n",
       "      <td>Petrol</td>\n",
       "      <td>Individual</td>\n",
       "      <td>Manual</td>\n",
       "      <td>First Owner</td>\n",
       "      <td>67727</td>\n",
       "    </tr>\n",
       "    <tr>\n",
       "      <th>2413</th>\n",
       "      <td>Hyundai</td>\n",
       "      <td>2018</td>\n",
       "      <td>700000</td>\n",
       "      <td>27000</td>\n",
       "      <td>Petrol</td>\n",
       "      <td>Individual</td>\n",
       "      <td>Manual</td>\n",
       "      <td>First Owner</td>\n",
       "      <td>548634</td>\n",
       "    </tr>\n",
       "    <tr>\n",
       "      <th>1402</th>\n",
       "      <td>Mahindra</td>\n",
       "      <td>2012</td>\n",
       "      <td>550000</td>\n",
       "      <td>120000</td>\n",
       "      <td>Diesel</td>\n",
       "      <td>Individual</td>\n",
       "      <td>Manual</td>\n",
       "      <td>Second Owner</td>\n",
       "      <td>272500</td>\n",
       "    </tr>\n",
       "  </tbody>\n",
       "</table>\n",
       "</div>"
      ],
      "text/plain": [
       "        car_name  year  selling_price  km_driven    fuel seller_type   \n",
       "299       Datsun  2015         250000      40000  Petrol  Individual  \\\n",
       "1568       Honda  2014         400000      15000  Petrol  Individual   \n",
       "1005     Hyundai  2018         650000      37000  Diesel      Dealer   \n",
       "2485  Volkswagen  2014         325000      70000  Diesel  Individual   \n",
       "3045        Fiat  2010         165000     100000  Petrol  Individual   \n",
       "1785        Ford  2019         750000      25000  Diesel  Individual   \n",
       "1389     Hyundai  2019         475000      10000  Petrol  Individual   \n",
       "1008      Maruti  2016         625000      30000  Petrol      Dealer   \n",
       "1068    Mahindra  2016         430000      20000  Diesel  Individual   \n",
       "3039     Hyundai  2011         254999      24000  Petrol      Dealer   \n",
       "782         Ford  2011         325000     100000  Diesel  Individual   \n",
       "622   Volkswagen  2010         250000     100000  Diesel      Dealer   \n",
       "1805        Tata  2016         380000      38000  Diesel      Dealer   \n",
       "1911      Maruti  2015         370000      50000  Petrol  Individual   \n",
       "1963      Toyota  2016         509999      35000  Petrol  Individual   \n",
       "2762        Tata  2015         250000     120000  Petrol  Individual   \n",
       "443       Maruti  2001          43000     100000  Petrol  Individual   \n",
       "1071        Tata  2011          60000      40000  Petrol  Individual   \n",
       "2413     Hyundai  2018         700000      27000  Petrol  Individual   \n",
       "1402    Mahindra  2012         550000     120000  Diesel  Individual   \n",
       "\n",
       "     transmission                 owner  Predicted Selling Price  \n",
       "299        Manual          Second Owner                   284098  \n",
       "1568    Automatic           First Owner                   463312  \n",
       "1005       Manual           First Owner                   860292  \n",
       "2485    Automatic           First Owner                  2373679  \n",
       "3045       Manual  Fourth & Above Owner                   171030  \n",
       "1785       Manual           First Owner                   860292  \n",
       "1389    Automatic           First Owner                   768800  \n",
       "1008       Manual           First Owner                   395253  \n",
       "1068       Manual           First Owner                  1037800  \n",
       "3039       Manual           First Owner                   231707  \n",
       "782        Manual          Second Owner                   342188  \n",
       "622        Manual           First Owner                   280358  \n",
       "1805       Manual           First Owner                   587459  \n",
       "1911       Manual          Second Owner                   284098  \n",
       "1963       Manual           First Owner                   284098  \n",
       "2762       Manual          Second Owner                   284098  \n",
       "443        Manual          Second Owner                    83968  \n",
       "1071       Manual           First Owner                    67727  \n",
       "2413       Manual           First Owner                   548634  \n",
       "1402       Manual          Second Owner                   272500  "
      ]
     },
     "execution_count": 119,
     "metadata": {},
     "output_type": "execute_result"
    }
   ],
   "source": [
    "# Display the full detailed dataframe\n",
    "sample_data"
   ]
  },
  {
   "cell_type": "code",
   "execution_count": null,
   "id": "4e1c4656",
   "metadata": {},
   "outputs": [],
   "source": []
  },
  {
   "cell_type": "code",
   "execution_count": null,
   "id": "387787a0",
   "metadata": {},
   "outputs": [],
   "source": []
  }
 ],
 "metadata": {
  "kernelspec": {
   "display_name": "Python 3 (ipykernel)",
   "language": "python",
   "name": "python3"
  },
  "language_info": {
   "codemirror_mode": {
    "name": "ipython",
    "version": 3
   },
   "file_extension": ".py",
   "mimetype": "text/x-python",
   "name": "python",
   "nbconvert_exporter": "python",
   "pygments_lexer": "ipython3",
   "version": "3.9.12"
  }
 },
 "nbformat": 4,
 "nbformat_minor": 5
}
